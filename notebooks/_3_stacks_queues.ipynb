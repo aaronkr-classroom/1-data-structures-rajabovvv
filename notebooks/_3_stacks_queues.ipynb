{
  "nbformat": 4,
  "nbformat_minor": 0,
  "metadata": {
    "colab": {
      "provenance": []
    },
    "kernelspec": {
      "name": "python3",
      "display_name": "Python 3"
    },
    "language_info": {
      "name": "python"
    }
  },
  "cells": [
    {
      "cell_type": "markdown",
      "source": [
        "# Stacks with Arrays"
      ],
      "metadata": {
        "id": "-SBAAOpMFw1H"
      }
    },
    {
      "cell_type": "code",
      "execution_count": 4,
      "metadata": {
        "id": "kQHSTqQCGghX"
      },
      "outputs": [],
      "source": [
        "class StackArr:\n",
        "    def __init__(self, size):\n",
        "        self.array_size = size\n",
        "        self.top = -1\n",
        "        self.array = [None] * size\n",
        "\n",
        "    def push(self, value):\n",
        "        # If stack is full, expand the size\n",
        "        if self.top == self.array_size - 1:\n",
        "            self.array_size *= 2\n",
        "            self.array.extend([None] * self.array_size)\n",
        "            print(\"Array expanded to size:\", self.array_size)\n",
        "\n",
        "        self.top += 1\n",
        "        self.array[self.top] = value\n",
        "\n",
        "    def pop(self):\n",
        "        if self.top == -1:\n",
        "            return None  # Stack is empty\n",
        "        value = self.array[self.top]\n",
        "        self.top -= 1\n",
        "        return value\n",
        "\n",
        "    def is_empty(self):\n",
        "        return self.top == -1\n",
        "\n",
        "    def peek(self):\n",
        "        if self.top == -1:\n",
        "            return None\n",
        "        return self.array[self.top]"
      ]
    },
    {
      "cell_type": "markdown",
      "source": [
        "## Reverse String with a Stack"
      ],
      "metadata": {
        "id": "XuIgbabCGANl"
      }
    },
    {
      "cell_type": "code",
      "source": [
        "def reverse_string(input_string):\n",
        "  stack = StackArr(len(input_string))\n",
        "  for char in input_string:\n",
        "    stack.push(char)\n",
        "\n",
        "  reversed_string = \"\"\n",
        "  while not stack.is_empty():\n",
        "    reversed_string += stack.pop()\n",
        "\n",
        "  return reversed_string"
      ],
      "metadata": {
        "id": "CcfXkkcMF_RO"
      },
      "execution_count": 5,
      "outputs": []
    },
    {
      "cell_type": "code",
      "source": [
        "print(reverse_string(\"Hello\"))"
      ],
      "metadata": {
        "colab": {
          "base_uri": "https://localhost:8080/"
        },
        "id": "wPHJFZzRvWvW",
        "outputId": "4202cff2-703e-45f2-8275-06ef9081abd3"
      },
      "execution_count": 6,
      "outputs": [
        {
          "output_type": "stream",
          "name": "stdout",
          "text": [
            "olleH\n"
          ]
        }
      ]
    },
    {
      "cell_type": "markdown",
      "source": [
        "## Undo Feature in Text Editor"
      ],
      "metadata": {
        "id": "i3v-h_OvGSQ2"
      }
    },
    {
      "cell_type": "code",
      "source": [
        "def text_editor_simulation(commands):\n",
        "    # practice\n",
        "    text_stack = StackArr(10)\n",
        "    undo_stack = StackArr(10)\n",
        "\n",
        "    for command in commands:\n",
        "      if command.startswith(\"type\"):\n",
        "        char = command.split()[1]\n",
        "        text_stack.push(char)\n",
        "        undo_stack.push(text_stack.peek())\n",
        "      elif command == \"undo\" or command ==\"CTRL+Z\":\n",
        "        undo_stack.push(text_stack.pop())\n",
        "      elif command == \"redo\" or command == \"CTRL+Y\":\n",
        "        if not undo_stack.is_empty():\n",
        "          text_stack.push(undo_stack.pop())\n",
        "\n",
        "    result = \"\"\n",
        "    while not text_stack.is_empty():\n",
        "      result += text_stack.pop()\n",
        "\n",
        "    return result"
      ],
      "metadata": {
        "id": "iSc_6rQEGQm_"
      },
      "execution_count": 12,
      "outputs": []
    },
    {
      "cell_type": "code",
      "source": [
        "commands = [\n",
        "    \"type H\",\n",
        "    \"type e\",\n",
        "    \"type l\",\n",
        "    \"type l\",\n",
        "    \"type o\",\n",
        "    \"undo\",\n",
        "    \"undo\",\n",
        "    \"undo\",\n",
        "    \"redo\",\n",
        "    \"redo\"\n",
        "]\n",
        "print(text_editor_simulation(commands))"
      ],
      "metadata": {
        "colab": {
          "base_uri": "https://localhost:8080/"
        },
        "id": "0tGm0GKKy2Xj",
        "outputId": "099c2ed2-117b-4592-9fc4-e3e62b8ab61d"
      },
      "execution_count": 13,
      "outputs": [
        {
          "output_type": "stream",
          "name": "stdout",
          "text": [
            "lleH\n"
          ]
        }
      ]
    },
    {
      "cell_type": "markdown",
      "source": [
        "# Stacks with Linked Lists"
      ],
      "metadata": {
        "id": "D5A2W5BsF1VF"
      }
    },
    {
      "cell_type": "code",
      "source": [
        "class LinkedListNode:\n",
        "    def __init__(self, value):\n",
        "        self.value = value\n",
        "        self.next = None\n",
        "\n",
        "class StackLL:\n",
        "    def __init__(self):\n",
        "        self.head = None\n",
        "\n",
        "    def push(self, value):\n",
        "        new_node = LinkedListNode(value)\n",
        "        new_node.next = self.head\n",
        "        self.head = new_node\n",
        "\n",
        "    def pop(self):\n",
        "        if self.head is None:\n",
        "            return None  # Stack is empty\n",
        "        value = self.head.value\n",
        "        self.head = self.head.next\n",
        "        return value\n",
        "\n",
        "    def is_empty(self):\n",
        "        return self.head is None\n",
        "\n",
        "    def peek(self):\n",
        "        if self.head is None:\n",
        "            return None\n",
        "        return self.head.value"
      ],
      "metadata": {
        "id": "8FD52-A-FuXr"
      },
      "execution_count": 11,
      "outputs": []
    },
    {
      "cell_type": "markdown",
      "source": [
        "## Check for Balanced Parentheses"
      ],
      "metadata": {
        "id": "SRIuvVphHbnI"
      }
    },
    {
      "cell_type": "code",
      "source": [
        "def is_balanced(expression):\n",
        "    # practice\n",
        "    stack = StackLL()\n",
        "    matching_brackets = {\n",
        "        \")\": \"(\",\n",
        "        \"}\": \"{\",\n",
        "        \"]\": \"[\"\n",
        "    }\n",
        "\n",
        "    for char in expression:\n",
        "      if char in \"([{\":\n",
        "        stack.push(char)\n",
        "      elif char in \")]}\":\n",
        "        if stack.is_empty() or stack.pop() != matching_brackets[char]:\n",
        "          return False\n",
        "\n",
        "    return stack.is_empty()\n"
      ],
      "metadata": {
        "id": "wnq8TneTF7en"
      },
      "execution_count": 14,
      "outputs": []
    },
    {
      "cell_type": "code",
      "source": [
        "print(is_balanced(\"(Hello{Nice[to(meet)you]})\"))\n",
        "print(is_balanced(\"(Hello{Nice[to(meet)you])\"))"
      ],
      "metadata": {
        "colab": {
          "base_uri": "https://localhost:8080/"
        },
        "id": "2ZuPeTjN4xOV",
        "outputId": "4e1ba812-4686-442a-8e75-cca68442440d"
      },
      "execution_count": 16,
      "outputs": [
        {
          "output_type": "stream",
          "name": "stdout",
          "text": [
            "True\n",
            "False\n"
          ]
        }
      ]
    },
    {
      "cell_type": "markdown",
      "source": [
        "## Browser Navigation"
      ],
      "metadata": {
        "id": "Qv5QgKWiHkbQ"
      }
    },
    {
      "cell_type": "code",
      "source": [
        "def browser_navigation(urls):\n",
        "    # practice\n",
        "    back_stack = StackLL()\n",
        "    forward_stack = StackLL()\n",
        "    current_page = None\n",
        "\n",
        "    for action in urls:\n",
        "      if action.startswith(\"visit\"):\n",
        "        if current_page:\n",
        "          back_stack.push(current_page)\n",
        "        current_page = action.split()[1]\n",
        "        while not forward_stack.is_empty():\n",
        "          forward_stack.pop()\n",
        "      elif action == \"back\" and not back_stack.is_empty():\n",
        "        forward_stack.push(current_page)\n",
        "        current_page = back_stack.pop()\n",
        "      elif action == \"forward\" and not back_stack.is_empty():\n",
        "        back_stack.push(current_page)\n",
        "        current_page = back_stack.pop()\n",
        "\n",
        "      print(\"Current page: \", current_page)\n",
        "\n",
        "\n",
        "commands = [\n",
        "          \"visit wikipedia.org\",\n",
        "          \"visit google.com\",\n",
        "          \"back\",\n",
        "          \"back\",\n",
        "          \"forward\",\n",
        "          \"visit amazon.com\",\n",
        "          \"forward\",\n",
        "          \"back\"\n",
        "      ]\n",
        "browser_navigation(commands)"
      ],
      "metadata": {
        "id": "WfA_MKK9HfeX",
        "colab": {
          "base_uri": "https://localhost:8080/"
        },
        "outputId": "2eca27c9-f529-455c-e48d-2785f088c06a"
      },
      "execution_count": 20,
      "outputs": [
        {
          "output_type": "stream",
          "name": "stdout",
          "text": [
            "Current page:  wikipedia.org\n",
            "Current page:  google.com\n",
            "Current page:  wikipedia.org\n",
            "Current page:  wikipedia.org\n",
            "Current page:  wikipedia.org\n",
            "Current page:  amazon.com\n",
            "Current page:  amazon.com\n",
            "Current page:  wikipedia.org\n"
          ]
        }
      ]
    },
    {
      "cell_type": "markdown",
      "source": [
        "## Explanation\n",
        "\n",
        "1. **Array-based Stack:**\n",
        "  - Uses a list with dynamic resizing (`self.array.extend()`).\n",
        "  - Offers `push()`, `pop()`, `is_empty()`, and `peek()` methods.\n",
        "2. **Linked List-based Stack:**\n",
        "  - Implements stack using `LinkedListNode` to manage nodes.\n",
        "  - No need to resize, as memory is allocated dynamically.\n",
        "3. **Examples:**\n",
        "  - **Reversing a String:** Uses a stack to reverse characters.\n",
        "  - **Balanced Parentheses:** Checks matching brackets using a stack.\n",
        "  - **Text Editor Undo/Redo:** Manages typing and undo/redo commands.\n",
        "  - **Browser Navigation:** Mimics a web browser back/forward navigation.\n",
        "\n",
        "Feel free to try out and modify these examples!"
      ],
      "metadata": {
        "id": "HoXsbKgKMSxv"
      }
    },
    {
      "cell_type": "markdown",
      "source": [
        "---\n",
        "# Queues"
      ],
      "metadata": {
        "id": "qONjyAfIHurA"
      }
    },
    {
      "cell_type": "code",
      "source": [
        "class LinkedListNode:\n",
        "    def __init__(self, value):\n",
        "        self.value = value\n",
        "        self.next = None\n",
        "\n",
        "class Queue:\n",
        "    def __init__(self):\n",
        "        self.front = None\n",
        "        self.back = None\n",
        "\n",
        "    def enqueue(self, value):\n",
        "        new_node = LinkedListNode(value)\n",
        "        if self.back is None:  # Queue is empty\n",
        "            self.front = new_node\n",
        "            self.back = new_node\n",
        "        else:\n",
        "            self.back.next = new_node\n",
        "            self.back = new_node\n",
        "\n",
        "    def dequeue(self):\n",
        "        if self.front is None:  # Queue is empty\n",
        "            return None\n",
        "        value = self.front.value\n",
        "        self.front = self.front.next\n",
        "        if self.front is None:  # If queue becomes empty\n",
        "            self.back = None\n",
        "        return value\n",
        "\n",
        "    def is_empty(self):\n",
        "        return self.front is None\n",
        "\n",
        "    def peek(self):\n",
        "        if self.front is None:\n",
        "            return None\n",
        "        return self.front.value"
      ],
      "metadata": {
        "id": "V-olBGhzHnKX"
      },
      "execution_count": 21,
      "outputs": []
    },
    {
      "cell_type": "markdown",
      "source": [
        "## Simulate a Ticket Counter"
      ],
      "metadata": {
        "id": "MzjUFq4iH0fP"
      }
    },
    {
      "cell_type": "code",
      "source": [
        "def simulate_coffee_counter(customers):\n",
        "    # practice\n",
        "    q = Queue()\n",
        "\n",
        "    for customer in customers:\n",
        "      q.enqueue(customer)\n",
        "\n",
        "    print(\"Serving all customers: \")\n",
        "    while not q.is_empty():\n",
        "      print(\"Serving:\", q.dequeue())"
      ],
      "metadata": {
        "id": "sIE5spn3HyuV"
      },
      "execution_count": 22,
      "outputs": []
    },
    {
      "cell_type": "code",
      "source": [
        "simulate_coffee_counter([\"Aaron\", \"Alvin\", \"Jake\", 'Logan', 'Trump'])"
      ],
      "metadata": {
        "colab": {
          "base_uri": "https://localhost:8080/"
        },
        "id": "O5dvguN49zNh",
        "outputId": "308e1670-8f2b-423e-ca39-2a1f3cb79812"
      },
      "execution_count": 23,
      "outputs": [
        {
          "output_type": "stream",
          "name": "stdout",
          "text": [
            "Serving all customers: \n",
            "Serving: Aaron\n",
            "Serving: Alvin\n",
            "Serving: Jake\n",
            "Serving: Logan\n",
            "Serving: Trump\n"
          ]
        }
      ]
    },
    {
      "cell_type": "markdown",
      "source": [
        "## Hot Potato Game (Circle Elimination)"
      ],
      "metadata": {
        "id": "CJD5Gq4KH5jR"
      }
    },
    {
      "cell_type": "code",
      "source": [
        "def hot_potato(players, rounds):\n",
        "    #practice"
      ],
      "metadata": {
        "id": "jGwYMtt8H3Hi"
      },
      "execution_count": null,
      "outputs": []
    },
    {
      "cell_type": "markdown",
      "source": [
        "## Printer Job Queue Sim"
      ],
      "metadata": {
        "id": "MoyXEhZDIArA"
      }
    },
    {
      "cell_type": "code",
      "source": [
        "def printer_job_queue(jobs):\n",
        "    # practice"
      ],
      "metadata": {
        "id": "RIwxVS7FH95T"
      },
      "execution_count": null,
      "outputs": []
    },
    {
      "cell_type": "markdown",
      "source": [
        "## Customer Service Help Desk"
      ],
      "metadata": {
        "id": "zALlREviIGQ5"
      }
    },
    {
      "cell_type": "code",
      "source": [
        "class HelpDesk:\n",
        "    # practice"
      ],
      "metadata": {
        "id": "TOsozUSQIDSc"
      },
      "execution_count": null,
      "outputs": []
    },
    {
      "cell_type": "markdown",
      "source": [
        "## Call Center"
      ],
      "metadata": {
        "id": "CX7KOfKNIK3x"
      }
    },
    {
      "cell_type": "code",
      "source": [
        "import random\n",
        "import time\n",
        "\n",
        "def call_center_simulation(calls):\n",
        "    # practice"
      ],
      "metadata": {
        "id": "bYNgfJ6LIIXP"
      },
      "execution_count": null,
      "outputs": []
    },
    {
      "cell_type": "markdown",
      "source": [
        "## Explanation\n",
        "\n",
        "1. **Queue Implementation:**\n",
        "  - Uses a linked list with front pointing to the first element and back pointing to the last.\n",
        "  - `enqueue()`: Adds a new element to the back of the queue.\n",
        "  - `dequeue()`: Removes and returns the element from the front.\n",
        "  - `is_empty()`: Checks if the queue is empty.\n",
        "  - `peek()`: Returns the front element without removing it.\n",
        "2. **Examples:**\n",
        "  - **Ticket Counter:** Serves customers in the order they arrive.\n",
        "  - **Hot Potato Game:** Eliminates players in a circular manner until one remains.\n",
        "  - **Printer Job Queue:** Simulates jobs being processed in the order they are added.\n",
        "  - **Help Desk Queue:** Handles customer service requests.\n",
        "  - **Call Center:** Simulates a call center handling incoming calls.\n",
        "\n",
        "These scenarios illustrate real-world applications of queues, showing how they manage tasks in a \"first-in, first-out\" (FIFO) manner."
      ],
      "metadata": {
        "id": "hFuEqrpqMqSe"
      }
    },
    {
      "cell_type": "code",
      "source": [],
      "metadata": {
        "id": "CYlqlWKgIMtj"
      },
      "execution_count": null,
      "outputs": []
    }
  ]
}